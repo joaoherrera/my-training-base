{
 "cells": [
  {
   "cell_type": "markdown",
   "metadata": {},
   "source": [
    "# Evaluation Report - AI Palatal Rugoscopy"
   ]
  },
  {
   "cell_type": "markdown",
   "metadata": {},
   "source": [
    "1. Import libraries to run evaluation."
   ]
  },
  {
   "cell_type": "code",
   "execution_count": null,
   "metadata": {},
   "outputs": [],
   "source": [
    "from src.architectures.segmenter_maskrcnn import MaskRCNNSegmenter\n",
    "from src.engine.trainer import SupervisedTrainer\n",
    "from src.training.train import load_dataset\n",
    "from src.dataset.preprocessing import CocoPreprocessing\n",
    "from src.dataset.composer import OrderedCompose\n",
    "import matplotlib.pyplot as plt\n",
    "import numpy as np\n",
    "import torch\n",
    "import gc"
   ]
  },
  {
   "cell_type": "markdown",
   "metadata": {},
   "source": [
    "2. Load dataset and trained model"
   ]
  },
  {
   "cell_type": "code",
   "execution_count": null,
   "metadata": {},
   "outputs": [],
   "source": [
    "TEST_DATASET_PATH = \"/home/joaoherrera/data/rugae/manual/images\"\n",
    "TEST_DATASET_ANNOTATIONS_PATH = \"/home/joaoherrera/data/rugae/manual/annotations/validation_annotations.json\"\n",
    "MODEL_PATH = \"/home/joaoherrera/data/rugae/manual/output/train/full/checkpoint.pth\"\n",
    "SEED = 2183648025\n",
    "device = torch.device(\"cuda\")"
   ]
  },
  {
   "cell_type": "code",
   "execution_count": null,
   "metadata": {},
   "outputs": [],
   "source": [
    "pp_funcs = OrderedCompose([CocoPreprocessing.resize_to_target], resize_target=1024)\n",
    "test_dataset, test_dataloader = load_dataset(\n",
    "    images_path=TEST_DATASET_PATH,\n",
    "    annotations_path=TEST_DATASET_ANNOTATIONS_PATH,\n",
    "    augmentations_funcs=pp_funcs,\n",
    "    preprocessing_funcs=None,\n",
    "    batch_size=1,\n",
    "    shuffle=True,\n",
    "    seed=SEED,\n",
    ")\n",
    "\n",
    "model = MaskRCNNSegmenter(MODEL_PATH, num_classes=len(test_dataset.categories.keys()))\n",
    "successfully_loaded = model.load()\n",
    "model = model.to(device)\n",
    "\n",
    "print(\"Loaded model:\", successfully_loaded)"
   ]
  },
  {
   "cell_type": "markdown",
   "metadata": {},
   "source": [
    "3. Run PyCocoTools' evaluation function"
   ]
  },
  {
   "cell_type": "code",
   "execution_count": null,
   "metadata": {},
   "outputs": [],
   "source": [
    "supervised_trainer = SupervisedTrainer(\"cuda:0\", model)\n",
    "supervised_trainer.coco_eval(test_dataloader)\n",
    "supervised_trainer.evaluate(test_dataloader)"
   ]
  },
  {
   "cell_type": "markdown",
   "metadata": {},
   "source": [
    "4. Run inference"
   ]
  },
  {
   "cell_type": "code",
   "execution_count": null,
   "metadata": {},
   "outputs": [],
   "source": [
    "\n",
    "NUMBER_OF_SAMPLES = 1\n",
    "random_samples_indexes = np.random.choice(len(test_dataset), NUMBER_OF_SAMPLES)\n",
    "\n",
    "model = MaskRCNNSegmenter(MODEL_PATH, num_classes=len(test_dataset.categories.keys()))\n",
    "model.load()\n",
    "model.eval()\n",
    "\n",
    "model = model.to(device)\n",
    "with torch.no_grad():\n",
    "    for idx in random_samples_indexes:\n",
    "        sample = test_dataset[idx]\n",
    "        image, _ = sample\n",
    "        \n",
    "        pred = model([image.to(device)], None)[0]\n",
    "        final_mask = np.zeros(image.shape[1:3])\n",
    "        \n",
    "        for mask in pred[\"masks\"]:\n",
    "            mask = mask.detach().cpu().numpy()\n",
    "            mask = np.squeeze(mask)\n",
    "            mask[mask > 0.5] = 1\n",
    "            mask[mask < 1.0] = 0\n",
    "                \n",
    "            final_mask += mask\n",
    "        \n",
    "        plt.imshow(final_mask)\n",
    "        plt.show()\n",
    "\n",
    "    model.cpu()\n",
    "    del model\n",
    "    gc.collect()\n",
    "    torch.cuda.empty_cache()\n"
   ]
  }
 ],
 "metadata": {
  "kernelspec": {
   "display_name": "Python 3",
   "language": "python",
   "name": "python3"
  },
  "language_info": {
   "codemirror_mode": {
    "name": "ipython",
    "version": 3
   },
   "file_extension": ".py",
   "mimetype": "text/x-python",
   "name": "python",
   "nbconvert_exporter": "python",
   "pygments_lexer": "ipython3",
   "version": "3.10.12"
  }
 },
 "nbformat": 4,
 "nbformat_minor": 2
}
